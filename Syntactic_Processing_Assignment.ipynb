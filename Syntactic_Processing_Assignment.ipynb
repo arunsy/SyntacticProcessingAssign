{
 "cells": [
  {
   "cell_type": "markdown",
   "id": "268adf2e-a2a2-41f1-9fca-938e8e3a87a5",
   "metadata": {},
   "source": [
    "# Syntatic Processing Assignment\n",
    "\n",
    " - Analyse medical data set and summarize treatement for each diseases."
   ]
  },
  {
   "cell_type": "code",
   "execution_count": 1,
   "id": "72534110-75d4-40b9-a12b-ec1ec3e1dcca",
   "metadata": {},
   "outputs": [
    {
     "name": "stderr",
     "output_type": "stream",
     "text": [
      "2023-03-22 14:36:51.918843: I tensorflow/core/platform/cpu_feature_guard.cc:193] This TensorFlow binary is optimized with oneAPI Deep Neural Network Library (oneDNN) to use the following CPU instructions in performance-critical operations:  AVX2 FMA\n",
      "To enable them in other operations, rebuild TensorFlow with the appropriate compiler flags.\n"
     ]
    }
   ],
   "source": [
    "#!pip install pycrf\n",
    "#!pip install sklearn-crfsuite\n",
    "\n",
    "import spacy\n",
    "from spacy import displacy\n",
    "import sklearn_crfsuite\n",
    "from sklearn_crfsuite import metrics\n",
    "from sklearn.model_selection import train_test_split\n",
    "from tqdm import tqdm\n",
    "import pandas as pd"
   ]
  },
  {
   "cell_type": "markdown",
   "id": "4541ac1d-64da-4a1f-8bfd-10b071bea57f",
   "metadata": {},
   "source": [
    "## Data Preprocessing"
   ]
  },
  {
   "cell_type": "code",
   "execution_count": 2,
   "id": "4751ca22-174f-4f03-b3e2-820f5e8c96dc",
   "metadata": {},
   "outputs": [],
   "source": [
    "def read_file(filename):\n",
    "    data = []\n",
    "    with open(filename, \"r\") as fp:\n",
    "        data = fp.read()\n",
    "        data = data.replace(\"\\n\\n\", \"####\").replace(\"\\n\", \" \").replace(\"####\", \"\\n\")\n",
    "    return data"
   ]
  },
  {
   "cell_type": "code",
   "execution_count": 3,
   "id": "6e432cf4-a0ae-471f-9292-3672fd563895",
   "metadata": {},
   "outputs": [],
   "source": [
    "train_sent   = read_file('./train_sent')\n",
    "test_sent    = read_file('./test_sent')\n",
    "train_label = read_file('./train_label')\n",
    "test_label = read_file('./test_label')"
   ]
  },
  {
   "cell_type": "code",
   "execution_count": 4,
   "id": "fb2948ae-07e6-4bcf-b7f0-90206be0816e",
   "metadata": {},
   "outputs": [],
   "source": [
    "train_sent_proc = train_sent.splitlines()\n",
    "test_sent_proc = test_sent.splitlines()\n",
    "train_label_proc = train_label.splitlines()\n",
    "test_label_proc = test_label.splitlines()"
   ]
  },
  {
   "cell_type": "markdown",
   "id": "a2f181e5-b0f9-48db-af18-09990f4ffcf8",
   "metadata": {},
   "source": [
    "#### Count the number of sentence and labels"
   ]
  },
  {
   "cell_type": "code",
   "execution_count": 5,
   "id": "c9def949-9669-4624-9cfe-dd7b1bc11072",
   "metadata": {},
   "outputs": [
    {
     "name": "stdout",
     "output_type": "stream",
     "text": [
      "Num of train sentence:  2599\n",
      "Num of test sentence:  1056\n",
      "Num of train label:  2599\n",
      "Num of test label:  1056\n"
     ]
    }
   ],
   "source": [
    "print(\"Num of train sentence: \", len(train_sent_proc))\n",
    "print(\"Num of test sentence: \", len(test_sent_proc))\n",
    "print(\"Num of train label: \", len(train_label_proc))\n",
    "print(\"Num of test label: \", len(test_label_proc))"
   ]
  },
  {
   "cell_type": "markdown",
   "id": "69ea35ad-c28e-4c1f-9763-a33e135bd46c",
   "metadata": {},
   "source": [
    "## Concept identification"
   ]
  },
  {
   "cell_type": "code",
   "execution_count": 6,
   "id": "bca988cc-93b3-468e-8da4-bb9c42d855a2",
   "metadata": {},
   "outputs": [],
   "source": [
    "nlp = spacy.load(\"en_core_web_sm\")"
   ]
  },
  {
   "cell_type": "code",
   "execution_count": 7,
   "id": "f6aab88e-3aac-44f0-8524-a090d35fcfed",
   "metadata": {},
   "outputs": [],
   "source": [
    "global sent_no\n",
    "sent_no = 0"
   ]
  },
  {
   "cell_type": "code",
   "execution_count": 8,
   "id": "c5112720-9b7f-4f93-9292-6aeb656e409d",
   "metadata": {},
   "outputs": [],
   "source": [
    "def next_sentence(snts, lbls):\n",
    "    global sent_no\n",
    "    for n, label in enumerate(lbls):\n",
    "        if \"D\" in label and n > sent_no:\n",
    "            sent_no = n\n",
    "            break;"
   ]
  },
  {
   "cell_type": "code",
   "execution_count": 9,
   "id": "37d92db4-a977-425d-a29f-bbd92ded6ecd",
   "metadata": {},
   "outputs": [],
   "source": [
    "def disp_result(snts, lbls, sent_no):\n",
    "    print(sent_no)\n",
    "    result = nlp(snts[sent_no])\n",
    "    for token, label in zip(result, lbls[sent_no].split(' ')):\n",
    "        print(token.text, \"--\", token.pos_, \"--\", label)\n",
    "\n",
    "    displacy.render(result, style=\"dep\", jupyter = True)"
   ]
  },
  {
   "cell_type": "code",
   "execution_count": 10,
   "id": "80d886ea-e678-4bf7-8fae-ed370fb93d7d",
   "metadata": {},
   "outputs": [
    {
     "name": "stdout",
     "output_type": "stream",
     "text": [
      "12\n",
      "The -- DET -- O\n",
      "study -- NOUN -- O\n",
      "population -- NOUN -- O\n",
      "included -- VERB -- O\n",
      "84 -- NUM -- O\n",
      "women -- NOUN -- O\n",
      "with -- ADP -- O\n",
      "gestational -- ADJ -- D\n",
      "diabetes -- NOUN -- D\n",
      ", -- PUNCT -- O\n",
      "ascertained -- VERB -- O\n",
      "by -- ADP -- O\n",
      "universal -- ADJ -- O\n",
      "screening -- NOUN -- O\n",
      "of -- ADP -- O\n",
      "all -- DET -- O\n",
      "women -- NOUN -- O\n",
      "attending -- VERB -- O\n",
      "the -- DET -- O\n",
      "antenatal -- ADJ -- O\n",
      "clinic -- NOUN -- O\n",
      "of -- ADP -- O\n",
      "the -- DET -- O\n",
      "Hadassah -- PROPN -- O\n",
      "Medical -- PROPN -- O\n",
      "Center -- PROPN -- O\n",
      ", -- PUNCT -- O\n",
      "over -- ADP -- O\n",
      "a -- DET -- O\n",
      "2 -- NUM -- O\n",
      "- -- PUNCT -- O\n"
     ]
    },
    {
     "data": {
      "text/html": [
       "<span class=\"tex2jax_ignore\"><svg xmlns=\"http://www.w3.org/2000/svg\" xmlns:xlink=\"http://www.w3.org/1999/xlink\" xml:lang=\"en\" id=\"b4822fd6775645d9b10787508af54d7a-0\" class=\"displacy\" width=\"5300\" height=\"574.5\" direction=\"ltr\" style=\"max-width: none; height: 574.5px; color: #000000; background: #ffffff; font-family: Arial; direction: ltr\">\n",
       "<text class=\"displacy-token\" fill=\"currentColor\" text-anchor=\"middle\" y=\"484.5\">\n",
       "    <tspan class=\"displacy-word\" fill=\"currentColor\" x=\"50\">The</tspan>\n",
       "    <tspan class=\"displacy-tag\" dy=\"2em\" fill=\"currentColor\" x=\"50\">DET</tspan>\n",
       "</text>\n",
       "\n",
       "<text class=\"displacy-token\" fill=\"currentColor\" text-anchor=\"middle\" y=\"484.5\">\n",
       "    <tspan class=\"displacy-word\" fill=\"currentColor\" x=\"225\">study</tspan>\n",
       "    <tspan class=\"displacy-tag\" dy=\"2em\" fill=\"currentColor\" x=\"225\">NOUN</tspan>\n",
       "</text>\n",
       "\n",
       "<text class=\"displacy-token\" fill=\"currentColor\" text-anchor=\"middle\" y=\"484.5\">\n",
       "    <tspan class=\"displacy-word\" fill=\"currentColor\" x=\"400\">population</tspan>\n",
       "    <tspan class=\"displacy-tag\" dy=\"2em\" fill=\"currentColor\" x=\"400\">NOUN</tspan>\n",
       "</text>\n",
       "\n",
       "<text class=\"displacy-token\" fill=\"currentColor\" text-anchor=\"middle\" y=\"484.5\">\n",
       "    <tspan class=\"displacy-word\" fill=\"currentColor\" x=\"575\">included</tspan>\n",
       "    <tspan class=\"displacy-tag\" dy=\"2em\" fill=\"currentColor\" x=\"575\">VERB</tspan>\n",
       "</text>\n",
       "\n",
       "<text class=\"displacy-token\" fill=\"currentColor\" text-anchor=\"middle\" y=\"484.5\">\n",
       "    <tspan class=\"displacy-word\" fill=\"currentColor\" x=\"750\">84</tspan>\n",
       "    <tspan class=\"displacy-tag\" dy=\"2em\" fill=\"currentColor\" x=\"750\">NUM</tspan>\n",
       "</text>\n",
       "\n",
       "<text class=\"displacy-token\" fill=\"currentColor\" text-anchor=\"middle\" y=\"484.5\">\n",
       "    <tspan class=\"displacy-word\" fill=\"currentColor\" x=\"925\">women</tspan>\n",
       "    <tspan class=\"displacy-tag\" dy=\"2em\" fill=\"currentColor\" x=\"925\">NOUN</tspan>\n",
       "</text>\n",
       "\n",
       "<text class=\"displacy-token\" fill=\"currentColor\" text-anchor=\"middle\" y=\"484.5\">\n",
       "    <tspan class=\"displacy-word\" fill=\"currentColor\" x=\"1100\">with</tspan>\n",
       "    <tspan class=\"displacy-tag\" dy=\"2em\" fill=\"currentColor\" x=\"1100\">ADP</tspan>\n",
       "</text>\n",
       "\n",
       "<text class=\"displacy-token\" fill=\"currentColor\" text-anchor=\"middle\" y=\"484.5\">\n",
       "    <tspan class=\"displacy-word\" fill=\"currentColor\" x=\"1275\">gestational</tspan>\n",
       "    <tspan class=\"displacy-tag\" dy=\"2em\" fill=\"currentColor\" x=\"1275\">ADJ</tspan>\n",
       "</text>\n",
       "\n",
       "<text class=\"displacy-token\" fill=\"currentColor\" text-anchor=\"middle\" y=\"484.5\">\n",
       "    <tspan class=\"displacy-word\" fill=\"currentColor\" x=\"1450\">diabetes ,</tspan>\n",
       "    <tspan class=\"displacy-tag\" dy=\"2em\" fill=\"currentColor\" x=\"1450\">NOUN</tspan>\n",
       "</text>\n",
       "\n",
       "<text class=\"displacy-token\" fill=\"currentColor\" text-anchor=\"middle\" y=\"484.5\">\n",
       "    <tspan class=\"displacy-word\" fill=\"currentColor\" x=\"1625\">ascertained</tspan>\n",
       "    <tspan class=\"displacy-tag\" dy=\"2em\" fill=\"currentColor\" x=\"1625\">VERB</tspan>\n",
       "</text>\n",
       "\n",
       "<text class=\"displacy-token\" fill=\"currentColor\" text-anchor=\"middle\" y=\"484.5\">\n",
       "    <tspan class=\"displacy-word\" fill=\"currentColor\" x=\"1800\">by</tspan>\n",
       "    <tspan class=\"displacy-tag\" dy=\"2em\" fill=\"currentColor\" x=\"1800\">ADP</tspan>\n",
       "</text>\n",
       "\n",
       "<text class=\"displacy-token\" fill=\"currentColor\" text-anchor=\"middle\" y=\"484.5\">\n",
       "    <tspan class=\"displacy-word\" fill=\"currentColor\" x=\"1975\">universal</tspan>\n",
       "    <tspan class=\"displacy-tag\" dy=\"2em\" fill=\"currentColor\" x=\"1975\">ADJ</tspan>\n",
       "</text>\n",
       "\n",
       "<text class=\"displacy-token\" fill=\"currentColor\" text-anchor=\"middle\" y=\"484.5\">\n",
       "    <tspan class=\"displacy-word\" fill=\"currentColor\" x=\"2150\">screening</tspan>\n",
       "    <tspan class=\"displacy-tag\" dy=\"2em\" fill=\"currentColor\" x=\"2150\">NOUN</tspan>\n",
       "</text>\n",
       "\n",
       "<text class=\"displacy-token\" fill=\"currentColor\" text-anchor=\"middle\" y=\"484.5\">\n",
       "    <tspan class=\"displacy-word\" fill=\"currentColor\" x=\"2325\">of</tspan>\n",
       "    <tspan class=\"displacy-tag\" dy=\"2em\" fill=\"currentColor\" x=\"2325\">ADP</tspan>\n",
       "</text>\n",
       "\n",
       "<text class=\"displacy-token\" fill=\"currentColor\" text-anchor=\"middle\" y=\"484.5\">\n",
       "    <tspan class=\"displacy-word\" fill=\"currentColor\" x=\"2500\">all</tspan>\n",
       "    <tspan class=\"displacy-tag\" dy=\"2em\" fill=\"currentColor\" x=\"2500\">DET</tspan>\n",
       "</text>\n",
       "\n",
       "<text class=\"displacy-token\" fill=\"currentColor\" text-anchor=\"middle\" y=\"484.5\">\n",
       "    <tspan class=\"displacy-word\" fill=\"currentColor\" x=\"2675\">women</tspan>\n",
       "    <tspan class=\"displacy-tag\" dy=\"2em\" fill=\"currentColor\" x=\"2675\">NOUN</tspan>\n",
       "</text>\n",
       "\n",
       "<text class=\"displacy-token\" fill=\"currentColor\" text-anchor=\"middle\" y=\"484.5\">\n",
       "    <tspan class=\"displacy-word\" fill=\"currentColor\" x=\"2850\">attending</tspan>\n",
       "    <tspan class=\"displacy-tag\" dy=\"2em\" fill=\"currentColor\" x=\"2850\">VERB</tspan>\n",
       "</text>\n",
       "\n",
       "<text class=\"displacy-token\" fill=\"currentColor\" text-anchor=\"middle\" y=\"484.5\">\n",
       "    <tspan class=\"displacy-word\" fill=\"currentColor\" x=\"3025\">the</tspan>\n",
       "    <tspan class=\"displacy-tag\" dy=\"2em\" fill=\"currentColor\" x=\"3025\">DET</tspan>\n",
       "</text>\n",
       "\n",
       "<text class=\"displacy-token\" fill=\"currentColor\" text-anchor=\"middle\" y=\"484.5\">\n",
       "    <tspan class=\"displacy-word\" fill=\"currentColor\" x=\"3200\">antenatal</tspan>\n",
       "    <tspan class=\"displacy-tag\" dy=\"2em\" fill=\"currentColor\" x=\"3200\">ADJ</tspan>\n",
       "</text>\n",
       "\n",
       "<text class=\"displacy-token\" fill=\"currentColor\" text-anchor=\"middle\" y=\"484.5\">\n",
       "    <tspan class=\"displacy-word\" fill=\"currentColor\" x=\"3375\">clinic</tspan>\n",
       "    <tspan class=\"displacy-tag\" dy=\"2em\" fill=\"currentColor\" x=\"3375\">NOUN</tspan>\n",
       "</text>\n",
       "\n",
       "<text class=\"displacy-token\" fill=\"currentColor\" text-anchor=\"middle\" y=\"484.5\">\n",
       "    <tspan class=\"displacy-word\" fill=\"currentColor\" x=\"3550\">of</tspan>\n",
       "    <tspan class=\"displacy-tag\" dy=\"2em\" fill=\"currentColor\" x=\"3550\">ADP</tspan>\n",
       "</text>\n",
       "\n",
       "<text class=\"displacy-token\" fill=\"currentColor\" text-anchor=\"middle\" y=\"484.5\">\n",
       "    <tspan class=\"displacy-word\" fill=\"currentColor\" x=\"3725\">the</tspan>\n",
       "    <tspan class=\"displacy-tag\" dy=\"2em\" fill=\"currentColor\" x=\"3725\">DET</tspan>\n",
       "</text>\n",
       "\n",
       "<text class=\"displacy-token\" fill=\"currentColor\" text-anchor=\"middle\" y=\"484.5\">\n",
       "    <tspan class=\"displacy-word\" fill=\"currentColor\" x=\"3900\">Hadassah</tspan>\n",
       "    <tspan class=\"displacy-tag\" dy=\"2em\" fill=\"currentColor\" x=\"3900\">PROPN</tspan>\n",
       "</text>\n",
       "\n",
       "<text class=\"displacy-token\" fill=\"currentColor\" text-anchor=\"middle\" y=\"484.5\">\n",
       "    <tspan class=\"displacy-word\" fill=\"currentColor\" x=\"4075\">Medical</tspan>\n",
       "    <tspan class=\"displacy-tag\" dy=\"2em\" fill=\"currentColor\" x=\"4075\">PROPN</tspan>\n",
       "</text>\n",
       "\n",
       "<text class=\"displacy-token\" fill=\"currentColor\" text-anchor=\"middle\" y=\"484.5\">\n",
       "    <tspan class=\"displacy-word\" fill=\"currentColor\" x=\"4250\">Center ,</tspan>\n",
       "    <tspan class=\"displacy-tag\" dy=\"2em\" fill=\"currentColor\" x=\"4250\">PROPN</tspan>\n",
       "</text>\n",
       "\n",
       "<text class=\"displacy-token\" fill=\"currentColor\" text-anchor=\"middle\" y=\"484.5\">\n",
       "    <tspan class=\"displacy-word\" fill=\"currentColor\" x=\"4425\">over</tspan>\n",
       "    <tspan class=\"displacy-tag\" dy=\"2em\" fill=\"currentColor\" x=\"4425\">ADP</tspan>\n",
       "</text>\n",
       "\n",
       "<text class=\"displacy-token\" fill=\"currentColor\" text-anchor=\"middle\" y=\"484.5\">\n",
       "    <tspan class=\"displacy-word\" fill=\"currentColor\" x=\"4600\">a</tspan>\n",
       "    <tspan class=\"displacy-tag\" dy=\"2em\" fill=\"currentColor\" x=\"4600\">DET</tspan>\n",
       "</text>\n",
       "\n",
       "<text class=\"displacy-token\" fill=\"currentColor\" text-anchor=\"middle\" y=\"484.5\">\n",
       "    <tspan class=\"displacy-word\" fill=\"currentColor\" x=\"4775\">2-</tspan>\n",
       "    <tspan class=\"displacy-tag\" dy=\"2em\" fill=\"currentColor\" x=\"4775\">NUM</tspan>\n",
       "</text>\n",
       "\n",
       "<text class=\"displacy-token\" fill=\"currentColor\" text-anchor=\"middle\" y=\"484.5\">\n",
       "    <tspan class=\"displacy-word\" fill=\"currentColor\" x=\"4950\">year</tspan>\n",
       "    <tspan class=\"displacy-tag\" dy=\"2em\" fill=\"currentColor\" x=\"4950\">NOUN</tspan>\n",
       "</text>\n",
       "\n",
       "<text class=\"displacy-token\" fill=\"currentColor\" text-anchor=\"middle\" y=\"484.5\">\n",
       "    <tspan class=\"displacy-word\" fill=\"currentColor\" x=\"5125\">period</tspan>\n",
       "    <tspan class=\"displacy-tag\" dy=\"2em\" fill=\"currentColor\" x=\"5125\">NOUN</tspan>\n",
       "</text>\n",
       "\n",
       "<g class=\"displacy-arrow\">\n",
       "    <path class=\"displacy-arc\" id=\"arrow-b4822fd6775645d9b10787508af54d7a-0-0\" stroke-width=\"2px\" d=\"M70,439.5 C70,264.5 385.0,264.5 385.0,439.5\" fill=\"none\" stroke=\"currentColor\"/>\n",
       "    <text dy=\"1.25em\" style=\"font-size: 0.8em; letter-spacing: 1px\">\n",
       "        <textPath xlink:href=\"#arrow-b4822fd6775645d9b10787508af54d7a-0-0\" class=\"displacy-label\" startOffset=\"50%\" side=\"left\" fill=\"currentColor\" text-anchor=\"middle\">det</textPath>\n",
       "    </text>\n",
       "    <path class=\"displacy-arrowhead\" d=\"M70,441.5 L62,429.5 78,429.5\" fill=\"currentColor\"/>\n",
       "</g>\n",
       "\n",
       "<g class=\"displacy-arrow\">\n",
       "    <path class=\"displacy-arc\" id=\"arrow-b4822fd6775645d9b10787508af54d7a-0-1\" stroke-width=\"2px\" d=\"M245,439.5 C245,352.0 380.0,352.0 380.0,439.5\" fill=\"none\" stroke=\"currentColor\"/>\n",
       "    <text dy=\"1.25em\" style=\"font-size: 0.8em; letter-spacing: 1px\">\n",
       "        <textPath xlink:href=\"#arrow-b4822fd6775645d9b10787508af54d7a-0-1\" class=\"displacy-label\" startOffset=\"50%\" side=\"left\" fill=\"currentColor\" text-anchor=\"middle\">compound</textPath>\n",
       "    </text>\n",
       "    <path class=\"displacy-arrowhead\" d=\"M245,441.5 L237,429.5 253,429.5\" fill=\"currentColor\"/>\n",
       "</g>\n",
       "\n",
       "<g class=\"displacy-arrow\">\n",
       "    <path class=\"displacy-arc\" id=\"arrow-b4822fd6775645d9b10787508af54d7a-0-2\" stroke-width=\"2px\" d=\"M420,439.5 C420,352.0 555.0,352.0 555.0,439.5\" fill=\"none\" stroke=\"currentColor\"/>\n",
       "    <text dy=\"1.25em\" style=\"font-size: 0.8em; letter-spacing: 1px\">\n",
       "        <textPath xlink:href=\"#arrow-b4822fd6775645d9b10787508af54d7a-0-2\" class=\"displacy-label\" startOffset=\"50%\" side=\"left\" fill=\"currentColor\" text-anchor=\"middle\">nsubj</textPath>\n",
       "    </text>\n",
       "    <path class=\"displacy-arrowhead\" d=\"M420,441.5 L412,429.5 428,429.5\" fill=\"currentColor\"/>\n",
       "</g>\n",
       "\n",
       "<g class=\"displacy-arrow\">\n",
       "    <path class=\"displacy-arc\" id=\"arrow-b4822fd6775645d9b10787508af54d7a-0-3\" stroke-width=\"2px\" d=\"M770,439.5 C770,352.0 905.0,352.0 905.0,439.5\" fill=\"none\" stroke=\"currentColor\"/>\n",
       "    <text dy=\"1.25em\" style=\"font-size: 0.8em; letter-spacing: 1px\">\n",
       "        <textPath xlink:href=\"#arrow-b4822fd6775645d9b10787508af54d7a-0-3\" class=\"displacy-label\" startOffset=\"50%\" side=\"left\" fill=\"currentColor\" text-anchor=\"middle\">nummod</textPath>\n",
       "    </text>\n",
       "    <path class=\"displacy-arrowhead\" d=\"M770,441.5 L762,429.5 778,429.5\" fill=\"currentColor\"/>\n",
       "</g>\n",
       "\n",
       "<g class=\"displacy-arrow\">\n",
       "    <path class=\"displacy-arc\" id=\"arrow-b4822fd6775645d9b10787508af54d7a-0-4\" stroke-width=\"2px\" d=\"M595,439.5 C595,264.5 910.0,264.5 910.0,439.5\" fill=\"none\" stroke=\"currentColor\"/>\n",
       "    <text dy=\"1.25em\" style=\"font-size: 0.8em; letter-spacing: 1px\">\n",
       "        <textPath xlink:href=\"#arrow-b4822fd6775645d9b10787508af54d7a-0-4\" class=\"displacy-label\" startOffset=\"50%\" side=\"left\" fill=\"currentColor\" text-anchor=\"middle\">dobj</textPath>\n",
       "    </text>\n",
       "    <path class=\"displacy-arrowhead\" d=\"M910.0,441.5 L918.0,429.5 902.0,429.5\" fill=\"currentColor\"/>\n",
       "</g>\n",
       "\n",
       "<g class=\"displacy-arrow\">\n",
       "    <path class=\"displacy-arc\" id=\"arrow-b4822fd6775645d9b10787508af54d7a-0-5\" stroke-width=\"2px\" d=\"M595,439.5 C595,177.0 1090.0,177.0 1090.0,439.5\" fill=\"none\" stroke=\"currentColor\"/>\n",
       "    <text dy=\"1.25em\" style=\"font-size: 0.8em; letter-spacing: 1px\">\n",
       "        <textPath xlink:href=\"#arrow-b4822fd6775645d9b10787508af54d7a-0-5\" class=\"displacy-label\" startOffset=\"50%\" side=\"left\" fill=\"currentColor\" text-anchor=\"middle\">prep</textPath>\n",
       "    </text>\n",
       "    <path class=\"displacy-arrowhead\" d=\"M1090.0,441.5 L1098.0,429.5 1082.0,429.5\" fill=\"currentColor\"/>\n",
       "</g>\n",
       "\n",
       "<g class=\"displacy-arrow\">\n",
       "    <path class=\"displacy-arc\" id=\"arrow-b4822fd6775645d9b10787508af54d7a-0-6\" stroke-width=\"2px\" d=\"M1295,439.5 C1295,352.0 1430.0,352.0 1430.0,439.5\" fill=\"none\" stroke=\"currentColor\"/>\n",
       "    <text dy=\"1.25em\" style=\"font-size: 0.8em; letter-spacing: 1px\">\n",
       "        <textPath xlink:href=\"#arrow-b4822fd6775645d9b10787508af54d7a-0-6\" class=\"displacy-label\" startOffset=\"50%\" side=\"left\" fill=\"currentColor\" text-anchor=\"middle\">amod</textPath>\n",
       "    </text>\n",
       "    <path class=\"displacy-arrowhead\" d=\"M1295,441.5 L1287,429.5 1303,429.5\" fill=\"currentColor\"/>\n",
       "</g>\n",
       "\n",
       "<g class=\"displacy-arrow\">\n",
       "    <path class=\"displacy-arc\" id=\"arrow-b4822fd6775645d9b10787508af54d7a-0-7\" stroke-width=\"2px\" d=\"M1120,439.5 C1120,264.5 1435.0,264.5 1435.0,439.5\" fill=\"none\" stroke=\"currentColor\"/>\n",
       "    <text dy=\"1.25em\" style=\"font-size: 0.8em; letter-spacing: 1px\">\n",
       "        <textPath xlink:href=\"#arrow-b4822fd6775645d9b10787508af54d7a-0-7\" class=\"displacy-label\" startOffset=\"50%\" side=\"left\" fill=\"currentColor\" text-anchor=\"middle\">pobj</textPath>\n",
       "    </text>\n",
       "    <path class=\"displacy-arrowhead\" d=\"M1435.0,441.5 L1443.0,429.5 1427.0,429.5\" fill=\"currentColor\"/>\n",
       "</g>\n",
       "\n",
       "<g class=\"displacy-arrow\">\n",
       "    <path class=\"displacy-arc\" id=\"arrow-b4822fd6775645d9b10787508af54d7a-0-8\" stroke-width=\"2px\" d=\"M595,439.5 C595,89.5 1620.0,89.5 1620.0,439.5\" fill=\"none\" stroke=\"currentColor\"/>\n",
       "    <text dy=\"1.25em\" style=\"font-size: 0.8em; letter-spacing: 1px\">\n",
       "        <textPath xlink:href=\"#arrow-b4822fd6775645d9b10787508af54d7a-0-8\" class=\"displacy-label\" startOffset=\"50%\" side=\"left\" fill=\"currentColor\" text-anchor=\"middle\">advcl</textPath>\n",
       "    </text>\n",
       "    <path class=\"displacy-arrowhead\" d=\"M1620.0,441.5 L1628.0,429.5 1612.0,429.5\" fill=\"currentColor\"/>\n",
       "</g>\n",
       "\n",
       "<g class=\"displacy-arrow\">\n",
       "    <path class=\"displacy-arc\" id=\"arrow-b4822fd6775645d9b10787508af54d7a-0-9\" stroke-width=\"2px\" d=\"M1645,439.5 C1645,352.0 1780.0,352.0 1780.0,439.5\" fill=\"none\" stroke=\"currentColor\"/>\n",
       "    <text dy=\"1.25em\" style=\"font-size: 0.8em; letter-spacing: 1px\">\n",
       "        <textPath xlink:href=\"#arrow-b4822fd6775645d9b10787508af54d7a-0-9\" class=\"displacy-label\" startOffset=\"50%\" side=\"left\" fill=\"currentColor\" text-anchor=\"middle\">agent</textPath>\n",
       "    </text>\n",
       "    <path class=\"displacy-arrowhead\" d=\"M1780.0,441.5 L1788.0,429.5 1772.0,429.5\" fill=\"currentColor\"/>\n",
       "</g>\n",
       "\n",
       "<g class=\"displacy-arrow\">\n",
       "    <path class=\"displacy-arc\" id=\"arrow-b4822fd6775645d9b10787508af54d7a-0-10\" stroke-width=\"2px\" d=\"M1995,439.5 C1995,352.0 2130.0,352.0 2130.0,439.5\" fill=\"none\" stroke=\"currentColor\"/>\n",
       "    <text dy=\"1.25em\" style=\"font-size: 0.8em; letter-spacing: 1px\">\n",
       "        <textPath xlink:href=\"#arrow-b4822fd6775645d9b10787508af54d7a-0-10\" class=\"displacy-label\" startOffset=\"50%\" side=\"left\" fill=\"currentColor\" text-anchor=\"middle\">amod</textPath>\n",
       "    </text>\n",
       "    <path class=\"displacy-arrowhead\" d=\"M1995,441.5 L1987,429.5 2003,429.5\" fill=\"currentColor\"/>\n",
       "</g>\n",
       "\n",
       "<g class=\"displacy-arrow\">\n",
       "    <path class=\"displacy-arc\" id=\"arrow-b4822fd6775645d9b10787508af54d7a-0-11\" stroke-width=\"2px\" d=\"M1820,439.5 C1820,264.5 2135.0,264.5 2135.0,439.5\" fill=\"none\" stroke=\"currentColor\"/>\n",
       "    <text dy=\"1.25em\" style=\"font-size: 0.8em; letter-spacing: 1px\">\n",
       "        <textPath xlink:href=\"#arrow-b4822fd6775645d9b10787508af54d7a-0-11\" class=\"displacy-label\" startOffset=\"50%\" side=\"left\" fill=\"currentColor\" text-anchor=\"middle\">pobj</textPath>\n",
       "    </text>\n",
       "    <path class=\"displacy-arrowhead\" d=\"M2135.0,441.5 L2143.0,429.5 2127.0,429.5\" fill=\"currentColor\"/>\n",
       "</g>\n",
       "\n",
       "<g class=\"displacy-arrow\">\n",
       "    <path class=\"displacy-arc\" id=\"arrow-b4822fd6775645d9b10787508af54d7a-0-12\" stroke-width=\"2px\" d=\"M2170,439.5 C2170,352.0 2305.0,352.0 2305.0,439.5\" fill=\"none\" stroke=\"currentColor\"/>\n",
       "    <text dy=\"1.25em\" style=\"font-size: 0.8em; letter-spacing: 1px\">\n",
       "        <textPath xlink:href=\"#arrow-b4822fd6775645d9b10787508af54d7a-0-12\" class=\"displacy-label\" startOffset=\"50%\" side=\"left\" fill=\"currentColor\" text-anchor=\"middle\">prep</textPath>\n",
       "    </text>\n",
       "    <path class=\"displacy-arrowhead\" d=\"M2305.0,441.5 L2313.0,429.5 2297.0,429.5\" fill=\"currentColor\"/>\n",
       "</g>\n",
       "\n",
       "<g class=\"displacy-arrow\">\n",
       "    <path class=\"displacy-arc\" id=\"arrow-b4822fd6775645d9b10787508af54d7a-0-13\" stroke-width=\"2px\" d=\"M2520,439.5 C2520,352.0 2655.0,352.0 2655.0,439.5\" fill=\"none\" stroke=\"currentColor\"/>\n",
       "    <text dy=\"1.25em\" style=\"font-size: 0.8em; letter-spacing: 1px\">\n",
       "        <textPath xlink:href=\"#arrow-b4822fd6775645d9b10787508af54d7a-0-13\" class=\"displacy-label\" startOffset=\"50%\" side=\"left\" fill=\"currentColor\" text-anchor=\"middle\">det</textPath>\n",
       "    </text>\n",
       "    <path class=\"displacy-arrowhead\" d=\"M2520,441.5 L2512,429.5 2528,429.5\" fill=\"currentColor\"/>\n",
       "</g>\n",
       "\n",
       "<g class=\"displacy-arrow\">\n",
       "    <path class=\"displacy-arc\" id=\"arrow-b4822fd6775645d9b10787508af54d7a-0-14\" stroke-width=\"2px\" d=\"M2345,439.5 C2345,264.5 2660.0,264.5 2660.0,439.5\" fill=\"none\" stroke=\"currentColor\"/>\n",
       "    <text dy=\"1.25em\" style=\"font-size: 0.8em; letter-spacing: 1px\">\n",
       "        <textPath xlink:href=\"#arrow-b4822fd6775645d9b10787508af54d7a-0-14\" class=\"displacy-label\" startOffset=\"50%\" side=\"left\" fill=\"currentColor\" text-anchor=\"middle\">pobj</textPath>\n",
       "    </text>\n",
       "    <path class=\"displacy-arrowhead\" d=\"M2660.0,441.5 L2668.0,429.5 2652.0,429.5\" fill=\"currentColor\"/>\n",
       "</g>\n",
       "\n",
       "<g class=\"displacy-arrow\">\n",
       "    <path class=\"displacy-arc\" id=\"arrow-b4822fd6775645d9b10787508af54d7a-0-15\" stroke-width=\"2px\" d=\"M2695,439.5 C2695,352.0 2830.0,352.0 2830.0,439.5\" fill=\"none\" stroke=\"currentColor\"/>\n",
       "    <text dy=\"1.25em\" style=\"font-size: 0.8em; letter-spacing: 1px\">\n",
       "        <textPath xlink:href=\"#arrow-b4822fd6775645d9b10787508af54d7a-0-15\" class=\"displacy-label\" startOffset=\"50%\" side=\"left\" fill=\"currentColor\" text-anchor=\"middle\">acl</textPath>\n",
       "    </text>\n",
       "    <path class=\"displacy-arrowhead\" d=\"M2830.0,441.5 L2838.0,429.5 2822.0,429.5\" fill=\"currentColor\"/>\n",
       "</g>\n",
       "\n",
       "<g class=\"displacy-arrow\">\n",
       "    <path class=\"displacy-arc\" id=\"arrow-b4822fd6775645d9b10787508af54d7a-0-16\" stroke-width=\"2px\" d=\"M3045,439.5 C3045,264.5 3360.0,264.5 3360.0,439.5\" fill=\"none\" stroke=\"currentColor\"/>\n",
       "    <text dy=\"1.25em\" style=\"font-size: 0.8em; letter-spacing: 1px\">\n",
       "        <textPath xlink:href=\"#arrow-b4822fd6775645d9b10787508af54d7a-0-16\" class=\"displacy-label\" startOffset=\"50%\" side=\"left\" fill=\"currentColor\" text-anchor=\"middle\">det</textPath>\n",
       "    </text>\n",
       "    <path class=\"displacy-arrowhead\" d=\"M3045,441.5 L3037,429.5 3053,429.5\" fill=\"currentColor\"/>\n",
       "</g>\n",
       "\n",
       "<g class=\"displacy-arrow\">\n",
       "    <path class=\"displacy-arc\" id=\"arrow-b4822fd6775645d9b10787508af54d7a-0-17\" stroke-width=\"2px\" d=\"M3220,439.5 C3220,352.0 3355.0,352.0 3355.0,439.5\" fill=\"none\" stroke=\"currentColor\"/>\n",
       "    <text dy=\"1.25em\" style=\"font-size: 0.8em; letter-spacing: 1px\">\n",
       "        <textPath xlink:href=\"#arrow-b4822fd6775645d9b10787508af54d7a-0-17\" class=\"displacy-label\" startOffset=\"50%\" side=\"left\" fill=\"currentColor\" text-anchor=\"middle\">amod</textPath>\n",
       "    </text>\n",
       "    <path class=\"displacy-arrowhead\" d=\"M3220,441.5 L3212,429.5 3228,429.5\" fill=\"currentColor\"/>\n",
       "</g>\n",
       "\n",
       "<g class=\"displacy-arrow\">\n",
       "    <path class=\"displacy-arc\" id=\"arrow-b4822fd6775645d9b10787508af54d7a-0-18\" stroke-width=\"2px\" d=\"M2870,439.5 C2870,177.0 3365.0,177.0 3365.0,439.5\" fill=\"none\" stroke=\"currentColor\"/>\n",
       "    <text dy=\"1.25em\" style=\"font-size: 0.8em; letter-spacing: 1px\">\n",
       "        <textPath xlink:href=\"#arrow-b4822fd6775645d9b10787508af54d7a-0-18\" class=\"displacy-label\" startOffset=\"50%\" side=\"left\" fill=\"currentColor\" text-anchor=\"middle\">dobj</textPath>\n",
       "    </text>\n",
       "    <path class=\"displacy-arrowhead\" d=\"M3365.0,441.5 L3373.0,429.5 3357.0,429.5\" fill=\"currentColor\"/>\n",
       "</g>\n",
       "\n",
       "<g class=\"displacy-arrow\">\n",
       "    <path class=\"displacy-arc\" id=\"arrow-b4822fd6775645d9b10787508af54d7a-0-19\" stroke-width=\"2px\" d=\"M3395,439.5 C3395,352.0 3530.0,352.0 3530.0,439.5\" fill=\"none\" stroke=\"currentColor\"/>\n",
       "    <text dy=\"1.25em\" style=\"font-size: 0.8em; letter-spacing: 1px\">\n",
       "        <textPath xlink:href=\"#arrow-b4822fd6775645d9b10787508af54d7a-0-19\" class=\"displacy-label\" startOffset=\"50%\" side=\"left\" fill=\"currentColor\" text-anchor=\"middle\">prep</textPath>\n",
       "    </text>\n",
       "    <path class=\"displacy-arrowhead\" d=\"M3530.0,441.5 L3538.0,429.5 3522.0,429.5\" fill=\"currentColor\"/>\n",
       "</g>\n",
       "\n",
       "<g class=\"displacy-arrow\">\n",
       "    <path class=\"displacy-arc\" id=\"arrow-b4822fd6775645d9b10787508af54d7a-0-20\" stroke-width=\"2px\" d=\"M3745,439.5 C3745,177.0 4240.0,177.0 4240.0,439.5\" fill=\"none\" stroke=\"currentColor\"/>\n",
       "    <text dy=\"1.25em\" style=\"font-size: 0.8em; letter-spacing: 1px\">\n",
       "        <textPath xlink:href=\"#arrow-b4822fd6775645d9b10787508af54d7a-0-20\" class=\"displacy-label\" startOffset=\"50%\" side=\"left\" fill=\"currentColor\" text-anchor=\"middle\">det</textPath>\n",
       "    </text>\n",
       "    <path class=\"displacy-arrowhead\" d=\"M3745,441.5 L3737,429.5 3753,429.5\" fill=\"currentColor\"/>\n",
       "</g>\n",
       "\n",
       "<g class=\"displacy-arrow\">\n",
       "    <path class=\"displacy-arc\" id=\"arrow-b4822fd6775645d9b10787508af54d7a-0-21\" stroke-width=\"2px\" d=\"M3920,439.5 C3920,264.5 4235.0,264.5 4235.0,439.5\" fill=\"none\" stroke=\"currentColor\"/>\n",
       "    <text dy=\"1.25em\" style=\"font-size: 0.8em; letter-spacing: 1px\">\n",
       "        <textPath xlink:href=\"#arrow-b4822fd6775645d9b10787508af54d7a-0-21\" class=\"displacy-label\" startOffset=\"50%\" side=\"left\" fill=\"currentColor\" text-anchor=\"middle\">compound</textPath>\n",
       "    </text>\n",
       "    <path class=\"displacy-arrowhead\" d=\"M3920,441.5 L3912,429.5 3928,429.5\" fill=\"currentColor\"/>\n",
       "</g>\n",
       "\n",
       "<g class=\"displacy-arrow\">\n",
       "    <path class=\"displacy-arc\" id=\"arrow-b4822fd6775645d9b10787508af54d7a-0-22\" stroke-width=\"2px\" d=\"M4095,439.5 C4095,352.0 4230.0,352.0 4230.0,439.5\" fill=\"none\" stroke=\"currentColor\"/>\n",
       "    <text dy=\"1.25em\" style=\"font-size: 0.8em; letter-spacing: 1px\">\n",
       "        <textPath xlink:href=\"#arrow-b4822fd6775645d9b10787508af54d7a-0-22\" class=\"displacy-label\" startOffset=\"50%\" side=\"left\" fill=\"currentColor\" text-anchor=\"middle\">compound</textPath>\n",
       "    </text>\n",
       "    <path class=\"displacy-arrowhead\" d=\"M4095,441.5 L4087,429.5 4103,429.5\" fill=\"currentColor\"/>\n",
       "</g>\n",
       "\n",
       "<g class=\"displacy-arrow\">\n",
       "    <path class=\"displacy-arc\" id=\"arrow-b4822fd6775645d9b10787508af54d7a-0-23\" stroke-width=\"2px\" d=\"M3570,439.5 C3570,89.5 4245.0,89.5 4245.0,439.5\" fill=\"none\" stroke=\"currentColor\"/>\n",
       "    <text dy=\"1.25em\" style=\"font-size: 0.8em; letter-spacing: 1px\">\n",
       "        <textPath xlink:href=\"#arrow-b4822fd6775645d9b10787508af54d7a-0-23\" class=\"displacy-label\" startOffset=\"50%\" side=\"left\" fill=\"currentColor\" text-anchor=\"middle\">pobj</textPath>\n",
       "    </text>\n",
       "    <path class=\"displacy-arrowhead\" d=\"M4245.0,441.5 L4253.0,429.5 4237.0,429.5\" fill=\"currentColor\"/>\n",
       "</g>\n",
       "\n",
       "<g class=\"displacy-arrow\">\n",
       "    <path class=\"displacy-arc\" id=\"arrow-b4822fd6775645d9b10787508af54d7a-0-24\" stroke-width=\"2px\" d=\"M1645,439.5 C1645,2.0 4425.0,2.0 4425.0,439.5\" fill=\"none\" stroke=\"currentColor\"/>\n",
       "    <text dy=\"1.25em\" style=\"font-size: 0.8em; letter-spacing: 1px\">\n",
       "        <textPath xlink:href=\"#arrow-b4822fd6775645d9b10787508af54d7a-0-24\" class=\"displacy-label\" startOffset=\"50%\" side=\"left\" fill=\"currentColor\" text-anchor=\"middle\">prep</textPath>\n",
       "    </text>\n",
       "    <path class=\"displacy-arrowhead\" d=\"M4425.0,441.5 L4433.0,429.5 4417.0,429.5\" fill=\"currentColor\"/>\n",
       "</g>\n",
       "\n",
       "<g class=\"displacy-arrow\">\n",
       "    <path class=\"displacy-arc\" id=\"arrow-b4822fd6775645d9b10787508af54d7a-0-25\" stroke-width=\"2px\" d=\"M4620,439.5 C4620,264.5 5110.0,264.5 5110.0,439.5\" fill=\"none\" stroke=\"currentColor\"/>\n",
       "    <text dy=\"1.25em\" style=\"font-size: 0.8em; letter-spacing: 1px\">\n",
       "        <textPath xlink:href=\"#arrow-b4822fd6775645d9b10787508af54d7a-0-25\" class=\"displacy-label\" startOffset=\"50%\" side=\"left\" fill=\"currentColor\" text-anchor=\"middle\">det</textPath>\n",
       "    </text>\n",
       "    <path class=\"displacy-arrowhead\" d=\"M4620,441.5 L4612,429.5 4628,429.5\" fill=\"currentColor\"/>\n",
       "</g>\n",
       "\n",
       "<g class=\"displacy-arrow\">\n",
       "    <path class=\"displacy-arc\" id=\"arrow-b4822fd6775645d9b10787508af54d7a-0-26\" stroke-width=\"2px\" d=\"M4795,439.5 C4795,352.0 4930.0,352.0 4930.0,439.5\" fill=\"none\" stroke=\"currentColor\"/>\n",
       "    <text dy=\"1.25em\" style=\"font-size: 0.8em; letter-spacing: 1px\">\n",
       "        <textPath xlink:href=\"#arrow-b4822fd6775645d9b10787508af54d7a-0-26\" class=\"displacy-label\" startOffset=\"50%\" side=\"left\" fill=\"currentColor\" text-anchor=\"middle\">nummod</textPath>\n",
       "    </text>\n",
       "    <path class=\"displacy-arrowhead\" d=\"M4795,441.5 L4787,429.5 4803,429.5\" fill=\"currentColor\"/>\n",
       "</g>\n",
       "\n",
       "<g class=\"displacy-arrow\">\n",
       "    <path class=\"displacy-arc\" id=\"arrow-b4822fd6775645d9b10787508af54d7a-0-27\" stroke-width=\"2px\" d=\"M4970,439.5 C4970,352.0 5105.0,352.0 5105.0,439.5\" fill=\"none\" stroke=\"currentColor\"/>\n",
       "    <text dy=\"1.25em\" style=\"font-size: 0.8em; letter-spacing: 1px\">\n",
       "        <textPath xlink:href=\"#arrow-b4822fd6775645d9b10787508af54d7a-0-27\" class=\"displacy-label\" startOffset=\"50%\" side=\"left\" fill=\"currentColor\" text-anchor=\"middle\">compound</textPath>\n",
       "    </text>\n",
       "    <path class=\"displacy-arrowhead\" d=\"M4970,441.5 L4962,429.5 4978,429.5\" fill=\"currentColor\"/>\n",
       "</g>\n",
       "\n",
       "<g class=\"displacy-arrow\">\n",
       "    <path class=\"displacy-arc\" id=\"arrow-b4822fd6775645d9b10787508af54d7a-0-28\" stroke-width=\"2px\" d=\"M4445,439.5 C4445,177.0 5115.0,177.0 5115.0,439.5\" fill=\"none\" stroke=\"currentColor\"/>\n",
       "    <text dy=\"1.25em\" style=\"font-size: 0.8em; letter-spacing: 1px\">\n",
       "        <textPath xlink:href=\"#arrow-b4822fd6775645d9b10787508af54d7a-0-28\" class=\"displacy-label\" startOffset=\"50%\" side=\"left\" fill=\"currentColor\" text-anchor=\"middle\">pobj</textPath>\n",
       "    </text>\n",
       "    <path class=\"displacy-arrowhead\" d=\"M5115.0,441.5 L5123.0,429.5 5107.0,429.5\" fill=\"currentColor\"/>\n",
       "</g>\n",
       "</svg></span>"
      ],
      "text/plain": [
       "<IPython.core.display.HTML object>"
      ]
     },
     "metadata": {},
     "output_type": "display_data"
    },
    {
     "name": "stdout",
     "output_type": "stream",
     "text": [
      "None\n"
     ]
    }
   ],
   "source": [
    "next_sentence(train_sent_proc, train_label_proc)\n",
    "print(disp_result(train_sent_proc, train_label_proc, sent_no))"
   ]
  },
  {
   "cell_type": "markdown",
   "id": "d2ce8239-98f5-45f6-9b03-878ccdfb7898",
   "metadata": {},
   "source": [
    "## Features for CRF"
   ]
  },
  {
   "cell_type": "code",
   "execution_count": 11,
   "id": "072c82fc-5487-471b-a51e-7d745da193a4",
   "metadata": {},
   "outputs": [
    {
     "name": "stderr",
     "output_type": "stream",
     "text": [
      "2599it [00:15, 170.26it/s]\n"
     ]
    }
   ],
   "source": [
    "word = []\n",
    "pos = []\n",
    "labels = []\n",
    "sents = []\n",
    "count = 0\n",
    "train_disease = []\n",
    "for sentence, label in tqdm(zip(train_sent_proc, train_label_proc)):\n",
    "    result = nlp(sentence)\n",
    "    count += 1\n",
    "    \n",
    "    disease_name = []\n",
    "    for token, lbl in zip(result, label.split(' ')):\n",
    "        word.append(token.text)\n",
    "        pos.append(token.pos_)\n",
    "        labels.append(lbl)\n",
    "        sents.append(count)\n",
    "        \n",
    "        if lbl == 'D' and len(token) > 2:\n",
    "                disease_name.append(token.text.lower())\n",
    "    \n",
    "    if 'D' in set(label):            \n",
    "        train_disease.append(\" \".join(disease_name))"
   ]
  },
  {
   "cell_type": "code",
   "execution_count": 12,
   "id": "269e531d-92f2-4d8a-8aa0-b2c482124f80",
   "metadata": {},
   "outputs": [
    {
     "data": {
      "text/html": [
       "<div>\n",
       "<style scoped>\n",
       "    .dataframe tbody tr th:only-of-type {\n",
       "        vertical-align: middle;\n",
       "    }\n",
       "\n",
       "    .dataframe tbody tr th {\n",
       "        vertical-align: top;\n",
       "    }\n",
       "\n",
       "    .dataframe thead th {\n",
       "        text-align: right;\n",
       "    }\n",
       "</style>\n",
       "<table border=\"1\" class=\"dataframe\">\n",
       "  <thead>\n",
       "    <tr style=\"text-align: right;\">\n",
       "      <th></th>\n",
       "      <th>sentence</th>\n",
       "      <th>word</th>\n",
       "      <th>POS</th>\n",
       "      <th>Tag</th>\n",
       "    </tr>\n",
       "  </thead>\n",
       "  <tbody>\n",
       "    <tr>\n",
       "      <th>0</th>\n",
       "      <td>1</td>\n",
       "      <td>All</td>\n",
       "      <td>DET</td>\n",
       "      <td>O</td>\n",
       "    </tr>\n",
       "    <tr>\n",
       "      <th>1</th>\n",
       "      <td>1</td>\n",
       "      <td>live</td>\n",
       "      <td>ADJ</td>\n",
       "      <td>O</td>\n",
       "    </tr>\n",
       "    <tr>\n",
       "      <th>2</th>\n",
       "      <td>1</td>\n",
       "      <td>births</td>\n",
       "      <td>NOUN</td>\n",
       "      <td>O</td>\n",
       "    </tr>\n",
       "    <tr>\n",
       "      <th>3</th>\n",
       "      <td>1</td>\n",
       "      <td>&gt;</td>\n",
       "      <td>X</td>\n",
       "      <td>O</td>\n",
       "    </tr>\n",
       "    <tr>\n",
       "      <th>4</th>\n",
       "      <td>1</td>\n",
       "      <td>or</td>\n",
       "      <td>CCONJ</td>\n",
       "      <td>O</td>\n",
       "    </tr>\n",
       "  </tbody>\n",
       "</table>\n",
       "</div>"
      ],
      "text/plain": [
       "   sentence    word    POS Tag\n",
       "0         1     All    DET   O\n",
       "1         1    live    ADJ   O\n",
       "2         1  births   NOUN   O\n",
       "3         1       >      X   O\n",
       "4         1      or  CCONJ   O"
      ]
     },
     "execution_count": 12,
     "metadata": {},
     "output_type": "execute_result"
    }
   ],
   "source": [
    "train_df = pd.DataFrame({'sentence' : sents, 'word':word,'POS': pos, 'Tag': labels})\n",
    "train_df.head(5)"
   ]
  },
  {
   "cell_type": "code",
   "execution_count": 13,
   "id": "d52680b9-47d5-4083-adce-804becfa3dc7",
   "metadata": {},
   "outputs": [
    {
     "name": "stderr",
     "output_type": "stream",
     "text": [
      "1056it [00:06, 170.15it/s]\n"
     ]
    }
   ],
   "source": [
    "word = []\n",
    "pos = []\n",
    "labels = []\n",
    "sents = []\n",
    "count = 0\n",
    "test_disease = []\n",
    "for sentence, label in tqdm(zip(test_sent_proc, test_label_proc)):\n",
    "    result = nlp(sentence)\n",
    "    count += 1\n",
    "    \n",
    "    disease_name = []\n",
    "    for token, lbl in zip(result, label.split(' ')):\n",
    "        word.append(token.text)\n",
    "        pos.append(token.pos_)\n",
    "        labels.append(lbl)\n",
    "        sents.append(count)\n",
    "        \n",
    "        if lbl == 'D' and len(token) > 2:\n",
    "                disease_name.append(token.text.lower())\n",
    "    \n",
    "    if 'D' in set(label):            \n",
    "        test_disease.append(\" \".join(disease_name))"
   ]
  },
  {
   "cell_type": "code",
   "execution_count": 14,
   "id": "40f14b94-5a97-43bc-9a4c-b3c632cc3650",
   "metadata": {},
   "outputs": [
    {
     "data": {
      "text/html": [
       "<div>\n",
       "<style scoped>\n",
       "    .dataframe tbody tr th:only-of-type {\n",
       "        vertical-align: middle;\n",
       "    }\n",
       "\n",
       "    .dataframe tbody tr th {\n",
       "        vertical-align: top;\n",
       "    }\n",
       "\n",
       "    .dataframe thead th {\n",
       "        text-align: right;\n",
       "    }\n",
       "</style>\n",
       "<table border=\"1\" class=\"dataframe\">\n",
       "  <thead>\n",
       "    <tr style=\"text-align: right;\">\n",
       "      <th></th>\n",
       "      <th>sentence</th>\n",
       "      <th>word</th>\n",
       "      <th>POS</th>\n",
       "      <th>Tag</th>\n",
       "    </tr>\n",
       "  </thead>\n",
       "  <tbody>\n",
       "    <tr>\n",
       "      <th>0</th>\n",
       "      <td>1</td>\n",
       "      <td>Furthermore</td>\n",
       "      <td>ADV</td>\n",
       "      <td>O</td>\n",
       "    </tr>\n",
       "    <tr>\n",
       "      <th>1</th>\n",
       "      <td>1</td>\n",
       "      <td>,</td>\n",
       "      <td>PUNCT</td>\n",
       "      <td>O</td>\n",
       "    </tr>\n",
       "    <tr>\n",
       "      <th>2</th>\n",
       "      <td>1</td>\n",
       "      <td>when</td>\n",
       "      <td>SCONJ</td>\n",
       "      <td>O</td>\n",
       "    </tr>\n",
       "    <tr>\n",
       "      <th>3</th>\n",
       "      <td>1</td>\n",
       "      <td>all</td>\n",
       "      <td>DET</td>\n",
       "      <td>O</td>\n",
       "    </tr>\n",
       "    <tr>\n",
       "      <th>4</th>\n",
       "      <td>1</td>\n",
       "      <td>deliveries</td>\n",
       "      <td>NOUN</td>\n",
       "      <td>O</td>\n",
       "    </tr>\n",
       "  </tbody>\n",
       "</table>\n",
       "</div>"
      ],
      "text/plain": [
       "   sentence         word    POS Tag\n",
       "0         1  Furthermore    ADV   O\n",
       "1         1            ,  PUNCT   O\n",
       "2         1         when  SCONJ   O\n",
       "3         1          all    DET   O\n",
       "4         1   deliveries   NOUN   O"
      ]
     },
     "execution_count": 14,
     "metadata": {},
     "output_type": "execute_result"
    }
   ],
   "source": [
    "test_df = pd.DataFrame({'sentence' : sents, 'word':word,'POS': pos, 'Tag': labels})\n",
    "test_df.head(5)"
   ]
  },
  {
   "cell_type": "code",
   "execution_count": 15,
   "id": "e923e92a-a41c-4205-9153-dbee4d9b00c4",
   "metadata": {},
   "outputs": [
    {
     "name": "stdout",
     "output_type": "stream",
     "text": [
      "patients        337\n",
      "treatment       187\n",
      "%               152\n",
      "cancer          115\n",
      "therapy         107\n",
      "study            97\n",
      "disease          87\n",
      "cell             85\n",
      "lung             72\n",
      "effects          61\n",
      "chemotherapy     58\n",
      "group            57\n",
      "TO_SEE           54\n",
      "results          53\n",
      "use              52\n",
      "gene             51\n",
      "surgery          49\n",
      "rate             46\n",
      "survival         46\n",
      "cases            46\n",
      "women            46\n",
      "children         46\n",
      "risk             45\n",
      "activity         44\n",
      "combination      43\n",
      "Name: word, dtype: int64 \n",
      "\n",
      "patients        131\n",
      "treatment        85\n",
      "%                82\n",
      "cancer           52\n",
      "therapy          50\n",
      "study            46\n",
      "cell             33\n",
      "group            30\n",
      "disease          28\n",
      "women            27\n",
      "gene             27\n",
      "cases            25\n",
      "results          24\n",
      "effects          23\n",
      "lung             22\n",
      "response         22\n",
      "age              22\n",
      "risk             22\n",
      "use              21\n",
      "rate             20\n",
      "TO_SEE           20\n",
      "chemotherapy     20\n",
      "effect           20\n",
      "control          19\n",
      "surgery          19\n",
      "Name: word, dtype: int64 \n",
      "\n"
     ]
    }
   ],
   "source": [
    "print(train_df.word[(train_df['POS'] == 'NOUN') | (train_df['POS'] == 'PROPN')].value_counts().head(25), \"\\n\")\n",
    "print(test_df.word[(test_df['POS'] == 'NOUN') | (test_df['POS'] == 'PROPN')].value_counts().head(25), \"\\n\")"
   ]
  },
  {
   "cell_type": "code",
   "execution_count": 16,
   "id": "1e054a56-1452-4e3c-933a-bb9b808620fc",
   "metadata": {},
   "outputs": [
    {
     "data": {
      "text/plain": [
       "<AxesSubplot:>"
      ]
     },
     "execution_count": 16,
     "metadata": {},
     "output_type": "execute_result"
    },
    {
     "data": {
      "image/png": "[encoded data removed]",
      "text/plain": [
       "<Figure size 432x288 with 1 Axes>"
      ]
     },
     "metadata": {
      "needs_background": "light"
     },
     "output_type": "display_data"
    }
   ],
   "source": [
    "train_df.Tag.value_counts().plot(kind='bar')"
   ]
  },
  {
   "cell_type": "code",
   "execution_count": 17,
   "id": "1a3e08bc-413e-44a9-9fcf-e1f7ebbe00d9",
   "metadata": {},
   "outputs": [
    {
     "data": {
      "text/plain": [
       "['O', 'D', 'T']"
      ]
     },
     "execution_count": 17,
     "metadata": {},
     "output_type": "execute_result"
    }
   ],
   "source": [
    "tags = train_df.Tag.unique()\n",
    "tags.tolist()"
   ]
  },
  {
   "cell_type": "code",
   "execution_count": 18,
   "id": "3a8e94ac-b00f-45fc-a2be-7cdf1a544822",
   "metadata": {},
   "outputs": [],
   "source": [
    "class SentenceForm():\n",
    "    def __init__(self, df):\n",
    "        self.data = df\n",
    "        self.sent_no = 0\n",
    "    \n",
    "        sent_func = lambda s: [(w, p, t) for w, p, t in zip(s['word'].values.tolist(), \n",
    "                                                            s['POS'].values.tolist(), \n",
    "                                                            s['Tag'].values.tolist())]\n",
    "        \n",
    "        grouped = self.data.groupby(self.data.sentence).apply(sent_func)\n",
    "        self.sentence = [s for s in grouped]\n",
    "    \n",
    "    def get_sentence(self):\n",
    "        try: \n",
    "            s = self.sentence[self.sent_no]\n",
    "            self.sent_no += 1\n",
    "            return s \n",
    "        except:\n",
    "            return None"
   ]
  },
  {
   "cell_type": "markdown",
   "id": "a812e663-7271-4b00-91db-8a46045ba000",
   "metadata": {},
   "source": [
    "## Features and the Labels of sentences"
   ]
  },
  {
   "cell_type": "code",
   "execution_count": 19,
   "id": "e8b375a7-c179-4fac-a13f-196d435ecccf",
   "metadata": {},
   "outputs": [],
   "source": [
    "def get_feature(sent, n):\n",
    "    sent_len = len(sent)\n",
    "    word = sent[n][0]\n",
    "    tag = sent[n][1]\n",
    "    \n",
    "    feature = {\n",
    "        #'bias'           : 0.65,\n",
    "        'word.lower()'   : word.lower(),\n",
    "        'word[-3:]'      : word[-3:],\n",
    "        'word[:3]'       : word[:3],     \n",
    "        'word.istitle()' : word.istitle(),\n",
    "        'word.isupper()' : word.isupper(),\n",
    "        'word.isdigit()' : word.isdigit(),            \n",
    "        'pos'            : tag.lower(),\n",
    "    }\n",
    "    if n > 0:\n",
    "        prev_word = sent[n-1][0]\n",
    "        prev_tag  = sent[n-1][1]\n",
    "        feature.update( {\n",
    "            'prev_word.lower()'   : prev_word.lower(),\n",
    "            'prev_word.istitle()' : prev_word.istitle(),\n",
    "            'prev_word.isupper()' : prev_word.isupper(),\n",
    "            'prev_word.isdigit()' : prev_word.isdigit(),  \n",
    "            #'prev_word[-3:]'      : prev_word[-3:],\n",
    "            #'prev_word[:3]'       : prev_word[:3],        \n",
    "            'prev_pos'            : prev_tag.lower(),\n",
    "        })\n",
    "    else:\n",
    "        feature['start'] = True\n",
    "        \n",
    "    if n < (sent_len - 1):\n",
    "        next_word = sent[n+1][0]\n",
    "        next_tag  = sent[n+1][1]\n",
    "        feature.update( {\n",
    "            'next_word.lower()'   : next_word.lower(),\n",
    "            'next_word.istitle()' : next_word.istitle(),\n",
    "            'next_word.isupper()' : next_word.isupper(),\n",
    "            'next_word.isdigit()' : next_word.isdigit(),\n",
    "            #'next_word[:-3]'       : next_word[:-3],                        \n",
    "            #'next_word[:3]'       : next_word[:3],            \n",
    "            'next_pos'            : next_tag.lower(),\n",
    "        })\n",
    "    else:\n",
    "        feature['end'] = True\n",
    "\n",
    "    return feature\n",
    "\n",
    "def get_sentence_feature(sentence):\n",
    "    features = [get_feature(sentence, n) for n in range(len(sentence))]\n",
    "    return features\n",
    "\n",
    "def get_sentence_tag(sentence):\n",
    "    tags = [tag for word, pos, tag in sentence]\n",
    "    return tags"
   ]
  },
  {
   "cell_type": "code",
   "execution_count": 20,
   "id": "d89409a1-2656-4de3-823a-d6be5014aa52",
   "metadata": {},
   "outputs": [],
   "source": [
    "TrainSentForm = SentenceForm(train_df)\n",
    "TestSentForm = SentenceForm(test_df)"
   ]
  },
  {
   "cell_type": "code",
   "execution_count": 21,
   "id": "13399597-ed37-42f7-8949-059f9fd7311b",
   "metadata": {},
   "outputs": [],
   "source": [
    "train_sentence = TrainSentForm.sentence\n",
    "test_sentence = TestSentForm.sentence"
   ]
  },
  {
   "cell_type": "code",
   "execution_count": 22,
   "id": "c2bed125-0856-4622-9dff-64d6035d9bbf",
   "metadata": {},
   "outputs": [
    {
     "name": "stdout",
     "output_type": "stream",
     "text": [
      "2599\n",
      "1056\n"
     ]
    }
   ],
   "source": [
    "print(len(train_sentence))\n",
    "print(len(test_sentence))"
   ]
  },
  {
   "cell_type": "code",
   "execution_count": 23,
   "id": "79f2da75-57a9-4eeb-93bd-4ea978845437",
   "metadata": {},
   "outputs": [
    {
     "name": "stdout",
     "output_type": "stream",
     "text": [
      "[{'word.lower()': 'the', 'word[-3:]': 'The', 'word[:3]': 'The', 'word.istitle()': True, 'word.isupper()': False, 'word.isdigit()': False, 'pos': 'det', 'start': True, 'next_word.lower()': 'study', 'next_word.istitle()': False, 'next_word.isupper()': False, 'next_word.isdigit()': False, 'next_pos': 'noun'}, {'word.lower()': 'study', 'word[-3:]': 'udy', 'word[:3]': 'stu', 'word.istitle()': False, 'word.isupper()': False, 'word.isdigit()': False, 'pos': 'noun', 'prev_word.lower()': 'the', 'prev_word.istitle()': True, 'prev_word.isupper()': False, 'prev_word.isdigit()': False, 'prev_pos': 'det', 'next_word.lower()': 'population', 'next_word.istitle()': False, 'next_word.isupper()': False, 'next_word.isdigit()': False, 'next_pos': 'noun'}, {'word.lower()': 'population', 'word[-3:]': 'ion', 'word[:3]': 'pop', 'word.istitle()': False, 'word.isupper()': False, 'word.isdigit()': False, 'pos': 'noun', 'prev_word.lower()': 'study', 'prev_word.istitle()': False, 'prev_word.isupper()': False, 'prev_word.isdigit()': False, 'prev_pos': 'noun', 'next_word.lower()': 'included', 'next_word.istitle()': False, 'next_word.isupper()': False, 'next_word.isdigit()': False, 'next_pos': 'verb'}, {'word.lower()': 'included', 'word[-3:]': 'ded', 'word[:3]': 'inc', 'word.istitle()': False, 'word.isupper()': False, 'word.isdigit()': False, 'pos': 'verb', 'prev_word.lower()': 'population', 'prev_word.istitle()': False, 'prev_word.isupper()': False, 'prev_word.isdigit()': False, 'prev_pos': 'noun', 'next_word.lower()': '84', 'next_word.istitle()': False, 'next_word.isupper()': False, 'next_word.isdigit()': True, 'next_pos': 'num'}, {'word.lower()': '84', 'word[-3:]': '84', 'word[:3]': '84', 'word.istitle()': False, 'word.isupper()': False, 'word.isdigit()': True, 'pos': 'num', 'prev_word.lower()': 'included', 'prev_word.istitle()': False, 'prev_word.isupper()': False, 'prev_word.isdigit()': False, 'prev_pos': 'verb', 'next_word.lower()': 'women', 'next_word.istitle()': False, 'next_word.isupper()': False, 'next_word.isdigit()': False, 'next_pos': 'noun'}, {'word.lower()': 'women', 'word[-3:]': 'men', 'word[:3]': 'wom', 'word.istitle()': False, 'word.isupper()': False, 'word.isdigit()': False, 'pos': 'noun', 'prev_word.lower()': '84', 'prev_word.istitle()': False, 'prev_word.isupper()': False, 'prev_word.isdigit()': True, 'prev_pos': 'num', 'next_word.lower()': 'with', 'next_word.istitle()': False, 'next_word.isupper()': False, 'next_word.isdigit()': False, 'next_pos': 'adp'}, {'word.lower()': 'with', 'word[-3:]': 'ith', 'word[:3]': 'wit', 'word.istitle()': False, 'word.isupper()': False, 'word.isdigit()': False, 'pos': 'adp', 'prev_word.lower()': 'women', 'prev_word.istitle()': False, 'prev_word.isupper()': False, 'prev_word.isdigit()': False, 'prev_pos': 'noun', 'next_word.lower()': 'gestational', 'next_word.istitle()': False, 'next_word.isupper()': False, 'next_word.isdigit()': False, 'next_pos': 'adj'}, {'word.lower()': 'gestational', 'word[-3:]': 'nal', 'word[:3]': 'ges', 'word.istitle()': False, 'word.isupper()': False, 'word.isdigit()': False, 'pos': 'adj', 'prev_word.lower()': 'with', 'prev_word.istitle()': False, 'prev_word.isupper()': False, 'prev_word.isdigit()': False, 'prev_pos': 'adp', 'next_word.lower()': 'diabetes', 'next_word.istitle()': False, 'next_word.isupper()': False, 'next_word.isdigit()': False, 'next_pos': 'noun'}, {'word.lower()': 'diabetes', 'word[-3:]': 'tes', 'word[:3]': 'dia', 'word.istitle()': False, 'word.isupper()': False, 'word.isdigit()': False, 'pos': 'noun', 'prev_word.lower()': 'gestational', 'prev_word.istitle()': False, 'prev_word.isupper()': False, 'prev_word.isdigit()': False, 'prev_pos': 'adj', 'next_word.lower()': ',', 'next_word.istitle()': False, 'next_word.isupper()': False, 'next_word.isdigit()': False, 'next_pos': 'punct'}, {'word.lower()': ',', 'word[-3:]': ',', 'word[:3]': ',', 'word.istitle()': False, 'word.isupper()': False, 'word.isdigit()': False, 'pos': 'punct', 'prev_word.lower()': 'diabetes', 'prev_word.istitle()': False, 'prev_word.isupper()': False, 'prev_word.isdigit()': False, 'prev_pos': 'noun', 'next_word.lower()': 'ascertained', 'next_word.istitle()': False, 'next_word.isupper()': False, 'next_word.isdigit()': False, 'next_pos': 'verb'}, {'word.lower()': 'ascertained', 'word[-3:]': 'ned', 'word[:3]': 'asc', 'word.istitle()': False, 'word.isupper()': False, 'word.isdigit()': False, 'pos': 'verb', 'prev_word.lower()': ',', 'prev_word.istitle()': False, 'prev_word.isupper()': False, 'prev_word.isdigit()': False, 'prev_pos': 'punct', 'next_word.lower()': 'by', 'next_word.istitle()': False, 'next_word.isupper()': False, 'next_word.isdigit()': False, 'next_pos': 'adp'}, {'word.lower()': 'by', 'word[-3:]': 'by', 'word[:3]': 'by', 'word.istitle()': False, 'word.isupper()': False, 'word.isdigit()': False, 'pos': 'adp', 'prev_word.lower()': 'ascertained', 'prev_word.istitle()': False, 'prev_word.isupper()': False, 'prev_word.isdigit()': False, 'prev_pos': 'verb', 'next_word.lower()': 'universal', 'next_word.istitle()': False, 'next_word.isupper()': False, 'next_word.isdigit()': False, 'next_pos': 'adj'}, {'word.lower()': 'universal', 'word[-3:]': 'sal', 'word[:3]': 'uni', 'word.istitle()': False, 'word.isupper()': False, 'word.isdigit()': False, 'pos': 'adj', 'prev_word.lower()': 'by', 'prev_word.istitle()': False, 'prev_word.isupper()': False, 'prev_word.isdigit()': False, 'prev_pos': 'adp', 'next_word.lower()': 'screening', 'next_word.istitle()': False, 'next_word.isupper()': False, 'next_word.isdigit()': False, 'next_pos': 'noun'}, {'word.lower()': 'screening', 'word[-3:]': 'ing', 'word[:3]': 'scr', 'word.istitle()': False, 'word.isupper()': False, 'word.isdigit()': False, 'pos': 'noun', 'prev_word.lower()': 'universal', 'prev_word.istitle()': False, 'prev_word.isupper()': False, 'prev_word.isdigit()': False, 'prev_pos': 'adj', 'next_word.lower()': 'of', 'next_word.istitle()': False, 'next_word.isupper()': False, 'next_word.isdigit()': False, 'next_pos': 'adp'}, {'word.lower()': 'of', 'word[-3:]': 'of', 'word[:3]': 'of', 'word.istitle()': False, 'word.isupper()': False, 'word.isdigit()': False, 'pos': 'adp', 'prev_word.lower()': 'screening', 'prev_word.istitle()': False, 'prev_word.isupper()': False, 'prev_word.isdigit()': False, 'prev_pos': 'noun', 'next_word.lower()': 'all', 'next_word.istitle()': False, 'next_word.isupper()': False, 'next_word.isdigit()': False, 'next_pos': 'det'}, {'word.lower()': 'all', 'word[-3:]': 'all', 'word[:3]': 'all', 'word.istitle()': False, 'word.isupper()': False, 'word.isdigit()': False, 'pos': 'det', 'prev_word.lower()': 'of', 'prev_word.istitle()': False, 'prev_word.isupper()': False, 'prev_word.isdigit()': False, 'prev_pos': 'adp', 'next_word.lower()': 'women', 'next_word.istitle()': False, 'next_word.isupper()': False, 'next_word.isdigit()': False, 'next_pos': 'noun'}, {'word.lower()': 'women', 'word[-3:]': 'men', 'word[:3]': 'wom', 'word.istitle()': False, 'word.isupper()': False, 'word.isdigit()': False, 'pos': 'noun', 'prev_word.lower()': 'all', 'prev_word.istitle()': False, 'prev_word.isupper()': False, 'prev_word.isdigit()': False, 'prev_pos': 'det', 'next_word.lower()': 'attending', 'next_word.istitle()': False, 'next_word.isupper()': False, 'next_word.isdigit()': False, 'next_pos': 'verb'}, {'word.lower()': 'attending', 'word[-3:]': 'ing', 'word[:3]': 'att', 'word.istitle()': False, 'word.isupper()': False, 'word.isdigit()': False, 'pos': 'verb', 'prev_word.lower()': 'women', 'prev_word.istitle()': False, 'prev_word.isupper()': False, 'prev_word.isdigit()': False, 'prev_pos': 'noun', 'next_word.lower()': 'the', 'next_word.istitle()': False, 'next_word.isupper()': False, 'next_word.isdigit()': False, 'next_pos': 'det'}, {'word.lower()': 'the', 'word[-3:]': 'the', 'word[:3]': 'the', 'word.istitle()': False, 'word.isupper()': False, 'word.isdigit()': False, 'pos': 'det', 'prev_word.lower()': 'attending', 'prev_word.istitle()': False, 'prev_word.isupper()': False, 'prev_word.isdigit()': False, 'prev_pos': 'verb', 'next_word.lower()': 'antenatal', 'next_word.istitle()': False, 'next_word.isupper()': False, 'next_word.isdigit()': False, 'next_pos': 'adj'}, {'word.lower()': 'antenatal', 'word[-3:]': 'tal', 'word[:3]': 'ant', 'word.istitle()': False, 'word.isupper()': False, 'word.isdigit()': False, 'pos': 'adj', 'prev_word.lower()': 'the', 'prev_word.istitle()': False, 'prev_word.isupper()': False, 'prev_word.isdigit()': False, 'prev_pos': 'det', 'next_word.lower()': 'clinic', 'next_word.istitle()': False, 'next_word.isupper()': False, 'next_word.isdigit()': False, 'next_pos': 'noun'}, {'word.lower()': 'clinic', 'word[-3:]': 'nic', 'word[:3]': 'cli', 'word.istitle()': False, 'word.isupper()': False, 'word.isdigit()': False, 'pos': 'noun', 'prev_word.lower()': 'antenatal', 'prev_word.istitle()': False, 'prev_word.isupper()': False, 'prev_word.isdigit()': False, 'prev_pos': 'adj', 'next_word.lower()': 'of', 'next_word.istitle()': False, 'next_word.isupper()': False, 'next_word.isdigit()': False, 'next_pos': 'adp'}, {'word.lower()': 'of', 'word[-3:]': 'of', 'word[:3]': 'of', 'word.istitle()': False, 'word.isupper()': False, 'word.isdigit()': False, 'pos': 'adp', 'prev_word.lower()': 'clinic', 'prev_word.istitle()': False, 'prev_word.isupper()': False, 'prev_word.isdigit()': False, 'prev_pos': 'noun', 'next_word.lower()': 'the', 'next_word.istitle()': False, 'next_word.isupper()': False, 'next_word.isdigit()': False, 'next_pos': 'det'}, {'word.lower()': 'the', 'word[-3:]': 'the', 'word[:3]': 'the', 'word.istitle()': False, 'word.isupper()': False, 'word.isdigit()': False, 'pos': 'det', 'prev_word.lower()': 'of', 'prev_word.istitle()': False, 'prev_word.isupper()': False, 'prev_word.isdigit()': False, 'prev_pos': 'adp', 'next_word.lower()': 'hadassah', 'next_word.istitle()': True, 'next_word.isupper()': False, 'next_word.isdigit()': False, 'next_pos': 'propn'}, {'word.lower()': 'hadassah', 'word[-3:]': 'sah', 'word[:3]': 'Had', 'word.istitle()': True, 'word.isupper()': False, 'word.isdigit()': False, 'pos': 'propn', 'prev_word.lower()': 'the', 'prev_word.istitle()': False, 'prev_word.isupper()': False, 'prev_word.isdigit()': False, 'prev_pos': 'det', 'next_word.lower()': 'medical', 'next_word.istitle()': True, 'next_word.isupper()': False, 'next_word.isdigit()': False, 'next_pos': 'propn'}, {'word.lower()': 'medical', 'word[-3:]': 'cal', 'word[:3]': 'Med', 'word.istitle()': True, 'word.isupper()': False, 'word.isdigit()': False, 'pos': 'propn', 'prev_word.lower()': 'hadassah', 'prev_word.istitle()': True, 'prev_word.isupper()': False, 'prev_word.isdigit()': False, 'prev_pos': 'propn', 'next_word.lower()': 'center', 'next_word.istitle()': True, 'next_word.isupper()': False, 'next_word.isdigit()': False, 'next_pos': 'propn'}, {'word.lower()': 'center', 'word[-3:]': 'ter', 'word[:3]': 'Cen', 'word.istitle()': True, 'word.isupper()': False, 'word.isdigit()': False, 'pos': 'propn', 'prev_word.lower()': 'medical', 'prev_word.istitle()': True, 'prev_word.isupper()': False, 'prev_word.isdigit()': False, 'prev_pos': 'propn', 'next_word.lower()': ',', 'next_word.istitle()': False, 'next_word.isupper()': False, 'next_word.isdigit()': False, 'next_pos': 'punct'}, {'word.lower()': ',', 'word[-3:]': ',', 'word[:3]': ',', 'word.istitle()': False, 'word.isupper()': False, 'word.isdigit()': False, 'pos': 'punct', 'prev_word.lower()': 'center', 'prev_word.istitle()': True, 'prev_word.isupper()': False, 'prev_word.isdigit()': False, 'prev_pos': 'propn', 'next_word.lower()': 'over', 'next_word.istitle()': False, 'next_word.isupper()': False, 'next_word.isdigit()': False, 'next_pos': 'adp'}, {'word.lower()': 'over', 'word[-3:]': 'ver', 'word[:3]': 'ove', 'word.istitle()': False, 'word.isupper()': False, 'word.isdigit()': False, 'pos': 'adp', 'prev_word.lower()': ',', 'prev_word.istitle()': False, 'prev_word.isupper()': False, 'prev_word.isdigit()': False, 'prev_pos': 'punct', 'next_word.lower()': 'a', 'next_word.istitle()': False, 'next_word.isupper()': False, 'next_word.isdigit()': False, 'next_pos': 'det'}, {'word.lower()': 'a', 'word[-3:]': 'a', 'word[:3]': 'a', 'word.istitle()': False, 'word.isupper()': False, 'word.isdigit()': False, 'pos': 'det', 'prev_word.lower()': 'over', 'prev_word.istitle()': False, 'prev_word.isupper()': False, 'prev_word.isdigit()': False, 'prev_pos': 'adp', 'next_word.lower()': '2', 'next_word.istitle()': False, 'next_word.isupper()': False, 'next_word.isdigit()': True, 'next_pos': 'num'}, {'word.lower()': '2', 'word[-3:]': '2', 'word[:3]': '2', 'word.istitle()': False, 'word.isupper()': False, 'word.isdigit()': True, 'pos': 'num', 'prev_word.lower()': 'a', 'prev_word.istitle()': False, 'prev_word.isupper()': False, 'prev_word.isdigit()': False, 'prev_pos': 'det', 'next_word.lower()': '-', 'next_word.istitle()': False, 'next_word.isupper()': False, 'next_word.isdigit()': False, 'next_pos': 'punct'}, {'word.lower()': '-', 'word[-3:]': '-', 'word[:3]': '-', 'word.istitle()': False, 'word.isupper()': False, 'word.isdigit()': False, 'pos': 'punct', 'prev_word.lower()': '2', 'prev_word.istitle()': False, 'prev_word.isupper()': False, 'prev_word.isdigit()': True, 'prev_pos': 'num', 'end': True}]\n"
     ]
    }
   ],
   "source": [
    "print(get_sentence_feature(train_sentence[sent_no]))"
   ]
  },
  {
   "cell_type": "code",
   "execution_count": 24,
   "id": "93546138-5533-4a10-907a-c51b12ec3136",
   "metadata": {},
   "outputs": [
    {
     "name": "stdout",
     "output_type": "stream",
     "text": [
      "['O', 'O', 'O', 'O', 'O', 'O', 'O', 'D', 'D', 'O', 'O', 'O', 'O', 'O', 'O', 'O', 'O', 'O', 'O', 'O', 'O', 'O', 'O', 'O', 'O', 'O', 'O', 'O', 'O', 'O', 'O']\n"
     ]
    }
   ],
   "source": [
    "print(get_sentence_tag(train_sentence[sent_no]))"
   ]
  },
  {
   "cell_type": "markdown",
   "id": "6851819a-b9c6-4033-b986-881faa33811c",
   "metadata": {},
   "source": [
    "## Input and Target variables"
   ]
  },
  {
   "cell_type": "code",
   "execution_count": 25,
   "id": "278c6a4c-62d8-489e-b72c-ecf5b634d4a7",
   "metadata": {},
   "outputs": [],
   "source": [
    "X_train = [get_sentence_feature(s) for s in train_sentence]\n",
    "y_train = [get_sentence_tag(s) for s in train_sentence]\n",
    "\n",
    "X_test = [get_sentence_feature(s) for s in test_sentence]\n",
    "y_test = [get_sentence_tag(s) for s in test_sentence]\n",
    "\n",
    "#X = X_train + X_test\n",
    "#y = y_train + y_test\n",
    "#X_train, X_test, y_train, y_test = train_test_split(X, y, test_size=0.20, random_state=42)"
   ]
  },
  {
   "cell_type": "code",
   "execution_count": 26,
   "id": "d94f2094-0055-4cff-bd2e-5e2383486135",
   "metadata": {},
   "outputs": [],
   "source": [
    "crf = sklearn_crfsuite.CRF(\n",
    "    algorithm='lbfgs',\n",
    "    c1=0.1,\n",
    "    c2=0.1,\n",
    "    max_iterations=100,\n",
    "    #keep_tempfiles=False,\n",
    "    all_possible_transitions=True\n",
    ")"
   ]
  },
  {
   "cell_type": "markdown",
   "id": "94cc9747-b625-49fe-8119-34eead249546",
   "metadata": {},
   "source": [
    "## Building the model"
   ]
  },
  {
   "cell_type": "code",
   "execution_count": 27,
   "id": "e03bdb48-4a06-4773-be14-39cc5733c3fd",
   "metadata": {},
   "outputs": [],
   "source": [
    "try:\n",
    "    crf.fit(X_train, y_train)\n",
    "except:\n",
    "    pass"
   ]
  },
  {
   "cell_type": "code",
   "execution_count": 28,
   "id": "f4cb0747-ad8f-4d64-bd2f-978dfa8210a0",
   "metadata": {},
   "outputs": [],
   "source": [
    "tags = train_df.Tag.unique().tolist()"
   ]
  },
  {
   "cell_type": "code",
   "execution_count": 29,
   "id": "59c67c07-6c16-4e69-b14b-f0c78ff04483",
   "metadata": {},
   "outputs": [],
   "source": [
    "y_pred = crf.predict(X_test)\n",
    "#print(metrics.flat_classification_report(y_test, y_pred))"
   ]
  },
  {
   "cell_type": "markdown",
   "id": "67577d61-d3a8-4fd6-93e3-513fe62b3a03",
   "metadata": {},
   "source": [
    "## Evaluation"
   ]
  },
  {
   "cell_type": "code",
   "execution_count": 30,
   "id": "825e96af-1c7b-40e5-a0b1-009785643f52",
   "metadata": {},
   "outputs": [
    {
     "data": {
      "text/plain": [
       "0.8909197172645661"
      ]
     },
     "execution_count": 30,
     "metadata": {},
     "output_type": "execute_result"
    }
   ],
   "source": [
    "metrics.flat_f1_score(y_test, y_pred, average='weighted',labels = tags)"
   ]
  },
  {
   "cell_type": "markdown",
   "id": "24eb6706-1492-436d-b51c-96858098c60a",
   "metadata": {},
   "source": [
    "## Identifying the diseases and treatment using a custom NER"
   ]
  },
  {
   "cell_type": "code",
   "execution_count": 31,
   "id": "d1c13e76-22c4-433e-b588-007a076677e7",
   "metadata": {},
   "outputs": [
    {
     "name": "stdout",
     "output_type": "stream",
     "text": [
      "Macrosomic Infants In Gestational Diabetes : good glycemic control\n",
      "Microcephaly Nonimmune Hydrops Fetalis : Trisomy\n",
      "Epilepsy : Methylphenidate\n",
      "Coronary-Artery Disease : Antichlamydial antibiotics\n",
      "Involved Upper Trapezius : electrical nerve stimulation\n",
      "Primary Pulmonary Hypertension ( Pph ) : fenfluramines\n",
      "Intracranial Hemorrhage : double-bolus method\n",
      "Sore Throat : Antibiotics\n",
      "Preeclampsia ( Proteinuric Hypertension : intrauterine insemination with donor sperm versus intrauterine insemination with partner\n",
      "Severe Acquired Hyperammonemia Cancer : organ transplantation and chemotherapy\n",
      "Years Previously Had : and\n",
      "Tumor Necrosis : as is seen\n",
      "Pulmonary Symptoms Attributable To Mediastinal Teratomas : chemotherapy\n",
      "Non-Obstructive Azoospermia : testicular fine needle aspiration ( TEFNA open biopsy and testicular sperm extraction ( TESE )\n",
      "Testicular Bleeding : fine needle aspiration , treated TESE\n",
      "Acute Migraine Treatment : Sumatriptan\n",
      "Zary Syndrome : Extracorporeal photopheresis\n",
      "Restenosis : coronary angioplasty\n",
      "Crohn 'S Disease : Thalidomide\n",
      "Splenic Rupture : administration of granulocyte colony-stimulating factor ( G-CSF )\n",
      "A Preterm Newborn Female Triplet : left lung\n",
      "Disease : Postoperative : Microelectrode-guided posteroventral pallidotomy for treatment\n",
      "Eisenmenger 'S Syndrome : laparoscopic cholecystectomy\n",
      "Breast Cancer : Hormone replacement therapy, subcutaneous mastectomy\n",
      "Severe Psoriasis : systemic treatments\n",
      "Malignant Tumors Such As Non-Small Cell Lung Cancer : surgery\n",
      "Inoperable Advanced Malignancies Such As Colorectal Cancer : combination with leucovorin or cisplatin\n",
      "Fungal Infections : triazole antifungal agents , fluconazole\n",
      "Inflammatory Skin Diseases : topical corticosteroids\n",
      "Unresectable Stage Iii Nsclc : sequential chemotherapy followed by radiation\n",
      "Bos : therapy with extracorporeal photopheresis\n",
      "Early Bos : extracorporeal photopheresis\n",
      "Patients With Limited Stage Small Cell : vip combination chemotherapy\n",
      "Malignant Pleural Effusions From Nsclc : systemic chemotherapy\n",
      "Cell Lung Cancer Were Retrospectively Reviewed : derivative chemotherapeutic agent , may\n",
      "Supraclavicular Node Metastases In Nsclc : chemoradiotherapy\n",
      "Patients With Lung Carcinoma Who : videothoracoscopic lobectomy or partial resection of the lung open thoracotomy\n",
      "Large Lesions : gks\n",
      "Colorectal Metastases : therapeutic vats metastasectomy\n",
      "Advanced Nsclc : combination chemotherapy of cisplatin , ifosfamide and irinotecan with rhg-csf support\n",
      "Non-Small Cell Lung Cancer In Combination : paclitaxel and carboplatin\n",
      "Primary Lung Cancer Adenocarcinoma ( Ad ) : resection\n",
      "Small-Cell Lung Cancer : combination chemotherapy\n",
      "Primary Cancer : the lung receiving\n",
      "Patients With Nsclc : chemotherapy\n",
      "Advanced Non -- Small-Cell Lung Cancer : paclitaxel plus carboplatin ( pc ) vinorelbine plus cisplatin\n",
      "Lung Cancer ( Sclc ) , The Expression : sclc\n",
      "Head And Neck Cancer : intravenous amifostine\n",
      "Psoriasis : active vitamin D3 analogue , 1 alpha\n",
      "Melanoma Received Thrice Or : ( rIFN-alpha A , Roferon-A\n",
      "Severe Acute Hepatitis Autoimmune Hepatitis : TJ-135\n",
      "Syringomyelia Associated With Spinal Adhesive Arachnoiditis : Surgical management\n",
      "Biliary Colic Symptoms Biliary Dyskinesia : cholecystectomy\n",
      "Biliary Dyskinesia Patients : Cholecystectomy\n",
      "Paranasal Sinuses Associated With The Common Cold : pseudoephedrine plus acetaminophen\n",
      "Viral Infections : Interferon\n",
      "Pneumonia , And : trimethoprim-sulfamethoxazole to prevent\n",
      "Head Louse Infestation Head Lice : 1 % permethrin\n",
      "Common Cold : Macrolide antibiotics\n",
      "Rhinovirus Colds Inflammatory Response To Infection Rhinovirus : clarithromycin\n",
      "Influenza Breast Cancer : vaccination\n",
      "Strain Of Influenza A2 ( H2N2 ) Virus : Gingyo-san\n",
      "Infection : a combination of omeprazole , amoxicillin , and clarithromycin, antileukemic therapy\n",
      "Persistent Asthma : corticosteroids\n",
      "Asthma : Fluticasone propionate\n",
      "Hepatitis C Viremia : combination therapy\n",
      "Duodenogastric Reflux : cholecystectomy\n",
      "Haemophilus Influenzae Meningitis Infections With Antibiotic-Resistant : of bacterial pathogens\n",
      "Meningitis : vaccines\n",
      "Macular Degeneration ( Amd ) : external beam radiation therapy\n",
      "Ischemic Heart Disease : Aortocoronary bypass grafting\n",
      "Benign Prostatic Hyperplasia : conservative pharmacological treatment\n",
      "Large-Bowel Cancer When Administered : oral UFT\n",
      "Colorectal Cancer : UFT fluoropyrimidine active, Hepatic arterial infusion of chemotherapy resection of hepatic metastases\n",
      "Phaeochromocytoma : Adrenalectomy\n",
      "Cell Carcinoma : various interferon interferon alfa-N1 , interferon alfa-2a , and interferon alfa-2b , have all\n",
      "Low-Grade Non-Hodgkin 'S Lymphoma : interferon alpha\n",
      "Esophageal Achalasia : injection , pneumatic dilation , and\n",
      "Proximal Hypospadias : Tubularized incised plate hypospadias repair\n",
      "Prostate Cancer : radical prostatectomy\n",
      "Mitomycin-Resistant Bladder Cancer Cell Line : combination with mitomycin C\n",
      "Bronchiectasis : Current surgical therapy\n",
      "Spontaneous Pneumothorax : Thoracoscopic surgery\n",
      "Acute Cerebral Ischemia : Antiplatelet therapy\n",
      "Odontogenic Infections : Antimicrobial treatment\n",
      "Brain Hemorrhage Atrial Fibrillation : Antiplatelet therapy\n",
      "Renovascular Hypertension : Percutaneous transluminal angioplasty\n",
      "Hyperplasia : A : and watchful\n",
      "Pulmonary Hypertension : double lung transplantation\n",
      "Multiple Sclerosis : Interferon beta treatment, Intravenous immunoglobulin treatment\n",
      "Dog Bite : Antibiotics\n",
      "Cerebral Palsy : Hyperbaric oxygen therapy\n",
      "Postvitrectomy Diabetic Vitreous Hemorrhage : Peripheral retinal cryotherapy\n",
      "Cancer : Matrix metalloproteinase inhibitors\n",
      "Hepatitis B : vaccine\n",
      "Pertussis : vaccines\n",
      "Arthropathy : arthroscopic treatment\n",
      "Severe Secondary Peritonitis : Surgical management\n"
     ]
    }
   ],
   "source": [
    "def get_treatement_for_disease(sentences, labels):\n",
    "    pred_disease = []\n",
    "    pred_treatement = []\n",
    "    \n",
    "    disease_treatment = {}\n",
    "    \n",
    "    for snts, label in zip(sentences, labels):\n",
    "        label_set = set(label)\n",
    "        if 'D' in  label_set and 'T' in label_set:        \n",
    "            dis = []\n",
    "            treat = []\n",
    "            for word, lbl in zip(snts.split(' '), label):\n",
    "                if lbl == 'D':\n",
    "                    dis.append(word.lower())\n",
    "\n",
    "                if lbl == 'T':\n",
    "                    treat.append(word)\n",
    "\n",
    "            dis = \" \".join(dis)\n",
    "            treat = \" \".join(treat)\n",
    "            if len(dis) > 2 and len(treat) > 2:\n",
    "                pred_disease.append(dis)\n",
    "                pred_treatement.append(treat)\n",
    "    \n",
    "    for disease, treatment in zip(pred_disease, pred_treatement):\n",
    "        if disease in disease_treatment:\n",
    "            #print(disease_treatment[disease])\n",
    "            #disease_treatment[disease].append(\"#\")\n",
    "            disease_treatment[disease].append(treatment)\n",
    "            #print(disease_treatment[disease])\n",
    "        else:\n",
    "            disease_treatment[disease] = list()\n",
    "            disease_treatment[disease].append(treatment)\n",
    "\n",
    "    for key in disease_treatment:\n",
    "        print(\"{0} : {1}\".format(key.title(), \", \".join(disease_treatment[key])))\n",
    "\n",
    "get_treatement_for_disease(test_sent_proc, y_pred)"
   ]
  },
  {
   "cell_type": "markdown",
   "id": "2deedc3a-6610-4324-8f02-46080275dd0e",
   "metadata": {},
   "source": [
    "## Summary\n",
    "\n",
    "- Build the model using Custom NER for this dataset  to predict one or multiple treatment for each disease.\n",
    "- Achieved an __F1 score of 89%__ as prediction result."
   ]
  }
 ],
 "metadata": {
  "kernelspec": {
   "display_name": "Python 3 (ipykernel)",
   "language": "python",
   "name": "python3"
  },
  "language_info": {
   "codemirror_mode": {
    "name": "ipython",
    "version": 3
   },
   "file_extension": ".py",
   "mimetype": "text/x-python",
   "name": "python",
   "nbconvert_exporter": "python",
   "pygments_lexer": "ipython3",
   "version": "3.9.12"
  }
 },
 "nbformat": 4,
 "nbformat_minor": 5
}
